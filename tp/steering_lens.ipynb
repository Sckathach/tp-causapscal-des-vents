{
 "cells": [
  {
   "cell_type": "code",
   "execution_count": 1,
   "metadata": {},
   "outputs": [
    {
     "name": "stdout",
     "output_type": "stream",
     "text": [
      "Loaded pretrained model meta-llama/Llama-3.2-1B-Instruct into HookedTransformer\n"
     ]
    }
   ],
   "source": [
    "from ssr.lens import Lens \n",
    "\n",
    "MODEL_NAME = \"llama3.2_1b\"\n",
    "lens = Lens.from_preset(MODEL_NAME)"
   ]
  },
  {
   "cell_type": "code",
   "execution_count": 5,
   "metadata": {},
   "outputs": [],
   "source": [
    "vanilla_instruction = \"This is [MASK][MASK][MASK][MASK][MASK]\"\n",
    "vanilla_instruction_with_chat_template = lens.apply_chat_template(vanilla_instruction)\n",
    "\n",
    "from ssr.steering import SteeringSSR, SteeringSSRConfig, Slide\n",
    "\n",
    "ssr_config = SteeringSSRConfig(\n",
    "    model_name=MODEL_NAME, \n",
    "    interventions=[\n",
    "        Slide(layer=10, alpha=1, a=2, beta=0.1, loss_name=\"fixed\"),\n",
    "        Slide(layer=14, alpha=1, a=2, beta=0.1, loss_name=\"fixed\"),\n",
    "    ],\n",
    "    early_stop_loss=0., \n",
    "    max_iterations=10\n",
    ")\n",
    "ssr = SteeringSSR(lens, ssr_config)"
   ]
  },
  {
   "cell_type": "code",
   "execution_count": 6,
   "metadata": {},
   "outputs": [
    {
     "name": "stdout",
     "output_type": "stream",
     "text": [
      "torch.Size([29, 2048])\n"
     ]
    },
    {
     "data": {
      "text/html": [
       "<pre style=\"white-space:pre;overflow-x:auto;line-height:normal;font-family:Menlo,'DejaVu Sans Mono',consolas,'Courier New',monospace\"> \n",
       "                <span style=\"color: #808000; text-decoration-color: #808000; font-weight: bold\">Best loss: </span><span style=\"color: #808000; text-decoration-color: #808000; font-weight: bold\">19.578</span><span style=\"color: #808000; text-decoration-color: #808000; font-weight: bold\">, with ids: tensor([ </span><span style=\"color: #808000; text-decoration-color: #808000; font-weight: bold\">82044</span><span style=\"color: #808000; text-decoration-color: #808000; font-weight: bold\">,   </span><span style=\"color: #808000; text-decoration-color: #808000; font-weight: bold\">2298</span><span style=\"color: #808000; text-decoration-color: #808000; font-weight: bold\">,  </span><span style=\"color: #808000; text-decoration-color: #808000; font-weight: bold\">84618</span><span style=\"color: #808000; text-decoration-color: #808000; font-weight: bold\">, </span><span style=\"color: #808000; text-decoration-color: #808000; font-weight: bold\">114586</span><span style=\"color: #808000; text-decoration-color: #808000; font-weight: bold\">,  </span><span style=\"color: #808000; text-decoration-color: #808000; font-weight: bold\">93663</span><span style=\"color: #808000; text-decoration-color: #808000; font-weight: bold\">], </span><span style=\"color: #808000; text-decoration-color: #808000; font-weight: bold\">device</span><span style=\"color: #808000; text-decoration-color: #808000; font-weight: bold\">=</span><span style=\"color: #808000; text-decoration-color: #808000; font-weight: bold\">'cuda:0'</span><span style=\"color: #808000; text-decoration-color: #808000; font-weight: bold\">)</span>\n",
       "<span style=\"color: #808000; text-decoration-color: #808000; font-weight: bold\">            </span>\n",
       "</pre>\n"
      ],
      "text/plain": [
       " \n",
       "                \u001b[1;33mBest loss: \u001b[0m\u001b[1;33m19.578\u001b[0m\u001b[1;33m, with ids: \u001b[0m\u001b[1;33mtensor\u001b[0m\u001b[1;33m(\u001b[0m\u001b[1;33m[\u001b[0m\u001b[1;33m \u001b[0m\u001b[1;33m82044\u001b[0m\u001b[1;33m,   \u001b[0m\u001b[1;33m2298\u001b[0m\u001b[1;33m,  \u001b[0m\u001b[1;33m84618\u001b[0m\u001b[1;33m, \u001b[0m\u001b[1;33m114586\u001b[0m\u001b[1;33m,  \u001b[0m\u001b[1;33m93663\u001b[0m\u001b[1;33m]\u001b[0m\u001b[1;33m, \u001b[0m\u001b[1;33mdevice\u001b[0m\u001b[1;33m=\u001b[0m\u001b[1;33m'cuda:0'\u001b[0m\u001b[1;33m)\u001b[0m\n",
       "\u001b[1;33m            \u001b[0m\n"
      ]
     },
     "metadata": {},
     "output_type": "display_data"
    },
    {
     "name": "stderr",
     "output_type": "stream",
     "text": [
      "  0%|          | 0/10 [00:00<?, ?it/s]"
     ]
    },
    {
     "data": {
      "text/html": [
       "<pre style=\"white-space:pre;overflow-x:auto;line-height:normal;font-family:Menlo,'DejaVu Sans Mono',consolas,'Courier New',monospace\"> \n",
       "                <span style=\"color: #808000; text-decoration-color: #808000; font-weight: bold\">Best loss: </span><span style=\"color: #808000; text-decoration-color: #808000; font-weight: bold\">5.537</span><span style=\"color: #808000; text-decoration-color: #808000; font-weight: bold\">, with ids: tensor([</span><span style=\"color: #808000; text-decoration-color: #808000; font-weight: bold\">102657</span><span style=\"color: #808000; text-decoration-color: #808000; font-weight: bold\">,  </span><span style=\"color: #808000; text-decoration-color: #808000; font-weight: bold\">35472</span><span style=\"color: #808000; text-decoration-color: #808000; font-weight: bold\">,   </span><span style=\"color: #808000; text-decoration-color: #808000; font-weight: bold\">1438</span><span style=\"color: #808000; text-decoration-color: #808000; font-weight: bold\">,  </span><span style=\"color: #808000; text-decoration-color: #808000; font-weight: bold\">43405</span><span style=\"color: #808000; text-decoration-color: #808000; font-weight: bold\">,  </span><span style=\"color: #808000; text-decoration-color: #808000; font-weight: bold\">39123</span><span style=\"color: #808000; text-decoration-color: #808000; font-weight: bold\">], </span><span style=\"color: #808000; text-decoration-color: #808000; font-weight: bold\">device</span><span style=\"color: #808000; text-decoration-color: #808000; font-weight: bold\">=</span><span style=\"color: #808000; text-decoration-color: #808000; font-weight: bold\">'cuda:0'</span><span style=\"color: #808000; text-decoration-color: #808000; font-weight: bold\">)</span>\n",
       "<span style=\"color: #808000; text-decoration-color: #808000; font-weight: bold\">            </span>\n",
       "</pre>\n"
      ],
      "text/plain": [
       " \n",
       "                \u001b[1;33mBest loss: \u001b[0m\u001b[1;33m5.537\u001b[0m\u001b[1;33m, with ids: \u001b[0m\u001b[1;33mtensor\u001b[0m\u001b[1;33m(\u001b[0m\u001b[1;33m[\u001b[0m\u001b[1;33m102657\u001b[0m\u001b[1;33m,  \u001b[0m\u001b[1;33m35472\u001b[0m\u001b[1;33m,   \u001b[0m\u001b[1;33m1438\u001b[0m\u001b[1;33m,  \u001b[0m\u001b[1;33m43405\u001b[0m\u001b[1;33m,  \u001b[0m\u001b[1;33m39123\u001b[0m\u001b[1;33m]\u001b[0m\u001b[1;33m, \u001b[0m\u001b[1;33mdevice\u001b[0m\u001b[1;33m=\u001b[0m\u001b[1;33m'cuda:0'\u001b[0m\u001b[1;33m)\u001b[0m\n",
       "\u001b[1;33m            \u001b[0m\n"
      ]
     },
     "metadata": {},
     "output_type": "display_data"
    },
    {
     "data": {
      "text/html": [
       "<pre style=\"white-space:pre;overflow-x:auto;line-height:normal;font-family:Menlo,'DejaVu Sans Mono',consolas,'Courier New',monospace\">Decreasing n_replace from <span style=\"color: #008080; text-decoration-color: #008080; font-weight: bold\">5</span> to <span style=\"color: #008080; text-decoration-color: #008080; font-weight: bold\">2</span>\n",
       "</pre>\n"
      ],
      "text/plain": [
       "Decreasing n_replace from \u001b[1;36m5\u001b[0m to \u001b[1;36m2\u001b[0m\n"
      ]
     },
     "metadata": {},
     "output_type": "display_data"
    },
    {
     "name": "stderr",
     "output_type": "stream",
     "text": [
      " 10%|█         | 1/10 [00:01<00:11,  1.27s/it]"
     ]
    },
    {
     "data": {
      "text/html": [
       "<pre style=\"white-space:pre;overflow-x:auto;line-height:normal;font-family:Menlo,'DejaVu Sans Mono',consolas,'Courier New',monospace\"> \n",
       "                <span style=\"color: #808000; text-decoration-color: #808000; font-weight: bold\">Best loss: </span><span style=\"color: #808000; text-decoration-color: #808000; font-weight: bold\">3.215</span><span style=\"color: #808000; text-decoration-color: #808000; font-weight: bold\">, with ids: tensor([</span><span style=\"color: #808000; text-decoration-color: #808000; font-weight: bold\">102657</span><span style=\"color: #808000; text-decoration-color: #808000; font-weight: bold\">, </span><span style=\"color: #808000; text-decoration-color: #808000; font-weight: bold\">106473</span><span style=\"color: #808000; text-decoration-color: #808000; font-weight: bold\">,  </span><span style=\"color: #808000; text-decoration-color: #808000; font-weight: bold\">82113</span><span style=\"color: #808000; text-decoration-color: #808000; font-weight: bold\">,  </span><span style=\"color: #808000; text-decoration-color: #808000; font-weight: bold\">43405</span><span style=\"color: #808000; text-decoration-color: #808000; font-weight: bold\">,  </span><span style=\"color: #808000; text-decoration-color: #808000; font-weight: bold\">39123</span><span style=\"color: #808000; text-decoration-color: #808000; font-weight: bold\">], </span><span style=\"color: #808000; text-decoration-color: #808000; font-weight: bold\">device</span><span style=\"color: #808000; text-decoration-color: #808000; font-weight: bold\">=</span><span style=\"color: #808000; text-decoration-color: #808000; font-weight: bold\">'cuda:0'</span><span style=\"color: #808000; text-decoration-color: #808000; font-weight: bold\">)</span>\n",
       "<span style=\"color: #808000; text-decoration-color: #808000; font-weight: bold\">            </span>\n",
       "</pre>\n"
      ],
      "text/plain": [
       " \n",
       "                \u001b[1;33mBest loss: \u001b[0m\u001b[1;33m3.215\u001b[0m\u001b[1;33m, with ids: \u001b[0m\u001b[1;33mtensor\u001b[0m\u001b[1;33m(\u001b[0m\u001b[1;33m[\u001b[0m\u001b[1;33m102657\u001b[0m\u001b[1;33m, \u001b[0m\u001b[1;33m106473\u001b[0m\u001b[1;33m,  \u001b[0m\u001b[1;33m82113\u001b[0m\u001b[1;33m,  \u001b[0m\u001b[1;33m43405\u001b[0m\u001b[1;33m,  \u001b[0m\u001b[1;33m39123\u001b[0m\u001b[1;33m]\u001b[0m\u001b[1;33m, \u001b[0m\u001b[1;33mdevice\u001b[0m\u001b[1;33m=\u001b[0m\u001b[1;33m'cuda:0'\u001b[0m\u001b[1;33m)\u001b[0m\n",
       "\u001b[1;33m            \u001b[0m\n"
      ]
     },
     "metadata": {},
     "output_type": "display_data"
    },
    {
     "data": {
      "text/html": [
       "<pre style=\"white-space:pre;overflow-x:auto;line-height:normal;font-family:Menlo,'DejaVu Sans Mono',consolas,'Courier New',monospace\">Decreasing n_replace from <span style=\"color: #008080; text-decoration-color: #008080; font-weight: bold\">2</span> to <span style=\"color: #008080; text-decoration-color: #008080; font-weight: bold\">1</span>\n",
       "</pre>\n"
      ],
      "text/plain": [
       "Decreasing n_replace from \u001b[1;36m2\u001b[0m to \u001b[1;36m1\u001b[0m\n"
      ]
     },
     "metadata": {},
     "output_type": "display_data"
    },
    {
     "name": "stderr",
     "output_type": "stream",
     "text": [
      " 20%|██        | 2/10 [00:02<00:10,  1.26s/it]"
     ]
    },
    {
     "data": {
      "text/html": [
       "<pre style=\"white-space:pre;overflow-x:auto;line-height:normal;font-family:Menlo,'DejaVu Sans Mono',consolas,'Courier New',monospace\"> \n",
       "                <span style=\"color: #808000; text-decoration-color: #808000; font-weight: bold\">Best loss: </span><span style=\"color: #808000; text-decoration-color: #808000; font-weight: bold\">3.055</span><span style=\"color: #808000; text-decoration-color: #808000; font-weight: bold\">, with ids: tensor([ </span><span style=\"color: #808000; text-decoration-color: #808000; font-weight: bold\">19234</span><span style=\"color: #808000; text-decoration-color: #808000; font-weight: bold\">, </span><span style=\"color: #808000; text-decoration-color: #808000; font-weight: bold\">106473</span><span style=\"color: #808000; text-decoration-color: #808000; font-weight: bold\">,  </span><span style=\"color: #808000; text-decoration-color: #808000; font-weight: bold\">82113</span><span style=\"color: #808000; text-decoration-color: #808000; font-weight: bold\">,  </span><span style=\"color: #808000; text-decoration-color: #808000; font-weight: bold\">43405</span><span style=\"color: #808000; text-decoration-color: #808000; font-weight: bold\">,  </span><span style=\"color: #808000; text-decoration-color: #808000; font-weight: bold\">39123</span><span style=\"color: #808000; text-decoration-color: #808000; font-weight: bold\">], </span><span style=\"color: #808000; text-decoration-color: #808000; font-weight: bold\">device</span><span style=\"color: #808000; text-decoration-color: #808000; font-weight: bold\">=</span><span style=\"color: #808000; text-decoration-color: #808000; font-weight: bold\">'cuda:0'</span><span style=\"color: #808000; text-decoration-color: #808000; font-weight: bold\">)</span>\n",
       "<span style=\"color: #808000; text-decoration-color: #808000; font-weight: bold\">            </span>\n",
       "</pre>\n"
      ],
      "text/plain": [
       " \n",
       "                \u001b[1;33mBest loss: \u001b[0m\u001b[1;33m3.055\u001b[0m\u001b[1;33m, with ids: \u001b[0m\u001b[1;33mtensor\u001b[0m\u001b[1;33m(\u001b[0m\u001b[1;33m[\u001b[0m\u001b[1;33m \u001b[0m\u001b[1;33m19234\u001b[0m\u001b[1;33m, \u001b[0m\u001b[1;33m106473\u001b[0m\u001b[1;33m,  \u001b[0m\u001b[1;33m82113\u001b[0m\u001b[1;33m,  \u001b[0m\u001b[1;33m43405\u001b[0m\u001b[1;33m,  \u001b[0m\u001b[1;33m39123\u001b[0m\u001b[1;33m]\u001b[0m\u001b[1;33m, \u001b[0m\u001b[1;33mdevice\u001b[0m\u001b[1;33m=\u001b[0m\u001b[1;33m'cuda:0'\u001b[0m\u001b[1;33m)\u001b[0m\n",
       "\u001b[1;33m            \u001b[0m\n"
      ]
     },
     "metadata": {},
     "output_type": "display_data"
    },
    {
     "name": "stderr",
     "output_type": "stream",
     "text": [
      " 30%|███       | 3/10 [00:03<00:09,  1.33s/it]"
     ]
    },
    {
     "data": {
      "text/html": [
       "<pre style=\"white-space:pre;overflow-x:auto;line-height:normal;font-family:Menlo,'DejaVu Sans Mono',consolas,'Courier New',monospace\"> \n",
       "                <span style=\"color: #808000; text-decoration-color: #808000; font-weight: bold\">Best loss: </span><span style=\"color: #808000; text-decoration-color: #808000; font-weight: bold\">2.820</span><span style=\"color: #808000; text-decoration-color: #808000; font-weight: bold\">, with ids: tensor([ </span><span style=\"color: #808000; text-decoration-color: #808000; font-weight: bold\">19234</span><span style=\"color: #808000; text-decoration-color: #808000; font-weight: bold\">, </span><span style=\"color: #808000; text-decoration-color: #808000; font-weight: bold\">106473</span><span style=\"color: #808000; text-decoration-color: #808000; font-weight: bold\">,  </span><span style=\"color: #808000; text-decoration-color: #808000; font-weight: bold\">10373</span><span style=\"color: #808000; text-decoration-color: #808000; font-weight: bold\">,  </span><span style=\"color: #808000; text-decoration-color: #808000; font-weight: bold\">43405</span><span style=\"color: #808000; text-decoration-color: #808000; font-weight: bold\">,  </span><span style=\"color: #808000; text-decoration-color: #808000; font-weight: bold\">39123</span><span style=\"color: #808000; text-decoration-color: #808000; font-weight: bold\">], </span><span style=\"color: #808000; text-decoration-color: #808000; font-weight: bold\">device</span><span style=\"color: #808000; text-decoration-color: #808000; font-weight: bold\">=</span><span style=\"color: #808000; text-decoration-color: #808000; font-weight: bold\">'cuda:0'</span><span style=\"color: #808000; text-decoration-color: #808000; font-weight: bold\">)</span>\n",
       "<span style=\"color: #808000; text-decoration-color: #808000; font-weight: bold\">            </span>\n",
       "</pre>\n"
      ],
      "text/plain": [
       " \n",
       "                \u001b[1;33mBest loss: \u001b[0m\u001b[1;33m2.820\u001b[0m\u001b[1;33m, with ids: \u001b[0m\u001b[1;33mtensor\u001b[0m\u001b[1;33m(\u001b[0m\u001b[1;33m[\u001b[0m\u001b[1;33m \u001b[0m\u001b[1;33m19234\u001b[0m\u001b[1;33m, \u001b[0m\u001b[1;33m106473\u001b[0m\u001b[1;33m,  \u001b[0m\u001b[1;33m10373\u001b[0m\u001b[1;33m,  \u001b[0m\u001b[1;33m43405\u001b[0m\u001b[1;33m,  \u001b[0m\u001b[1;33m39123\u001b[0m\u001b[1;33m]\u001b[0m\u001b[1;33m, \u001b[0m\u001b[1;33mdevice\u001b[0m\u001b[1;33m=\u001b[0m\u001b[1;33m'cuda:0'\u001b[0m\u001b[1;33m)\u001b[0m\n",
       "\u001b[1;33m            \u001b[0m\n"
      ]
     },
     "metadata": {},
     "output_type": "display_data"
    },
    {
     "name": "stderr",
     "output_type": "stream",
     "text": [
      " 40%|████      | 4/10 [00:05<00:08,  1.34s/it]"
     ]
    },
    {
     "data": {
      "text/html": [
       "<pre style=\"white-space:pre;overflow-x:auto;line-height:normal;font-family:Menlo,'DejaVu Sans Mono',consolas,'Courier New',monospace\"> \n",
       "                <span style=\"color: #808000; text-decoration-color: #808000; font-weight: bold\">Best loss: </span><span style=\"color: #808000; text-decoration-color: #808000; font-weight: bold\">2.439</span><span style=\"color: #808000; text-decoration-color: #808000; font-weight: bold\">, with ids: tensor([ </span><span style=\"color: #808000; text-decoration-color: #808000; font-weight: bold\">19234</span><span style=\"color: #808000; text-decoration-color: #808000; font-weight: bold\">, </span><span style=\"color: #808000; text-decoration-color: #808000; font-weight: bold\">106473</span><span style=\"color: #808000; text-decoration-color: #808000; font-weight: bold\">,  </span><span style=\"color: #808000; text-decoration-color: #808000; font-weight: bold\">10373</span><span style=\"color: #808000; text-decoration-color: #808000; font-weight: bold\">,   </span><span style=\"color: #808000; text-decoration-color: #808000; font-weight: bold\">6834</span><span style=\"color: #808000; text-decoration-color: #808000; font-weight: bold\">,  </span><span style=\"color: #808000; text-decoration-color: #808000; font-weight: bold\">39123</span><span style=\"color: #808000; text-decoration-color: #808000; font-weight: bold\">], </span><span style=\"color: #808000; text-decoration-color: #808000; font-weight: bold\">device</span><span style=\"color: #808000; text-decoration-color: #808000; font-weight: bold\">=</span><span style=\"color: #808000; text-decoration-color: #808000; font-weight: bold\">'cuda:0'</span><span style=\"color: #808000; text-decoration-color: #808000; font-weight: bold\">)</span>\n",
       "<span style=\"color: #808000; text-decoration-color: #808000; font-weight: bold\">            </span>\n",
       "</pre>\n"
      ],
      "text/plain": [
       " \n",
       "                \u001b[1;33mBest loss: \u001b[0m\u001b[1;33m2.439\u001b[0m\u001b[1;33m, with ids: \u001b[0m\u001b[1;33mtensor\u001b[0m\u001b[1;33m(\u001b[0m\u001b[1;33m[\u001b[0m\u001b[1;33m \u001b[0m\u001b[1;33m19234\u001b[0m\u001b[1;33m, \u001b[0m\u001b[1;33m106473\u001b[0m\u001b[1;33m,  \u001b[0m\u001b[1;33m10373\u001b[0m\u001b[1;33m,   \u001b[0m\u001b[1;33m6834\u001b[0m\u001b[1;33m,  \u001b[0m\u001b[1;33m39123\u001b[0m\u001b[1;33m]\u001b[0m\u001b[1;33m, \u001b[0m\u001b[1;33mdevice\u001b[0m\u001b[1;33m=\u001b[0m\u001b[1;33m'cuda:0'\u001b[0m\u001b[1;33m)\u001b[0m\n",
       "\u001b[1;33m            \u001b[0m\n"
      ]
     },
     "metadata": {},
     "output_type": "display_data"
    },
    {
     "name": "stderr",
     "output_type": "stream",
     "text": [
      " 50%|█████     | 5/10 [00:06<00:06,  1.35s/it]"
     ]
    },
    {
     "data": {
      "text/html": [
       "<pre style=\"white-space:pre;overflow-x:auto;line-height:normal;font-family:Menlo,'DejaVu Sans Mono',consolas,'Courier New',monospace\"> \n",
       "                <span style=\"color: #808000; text-decoration-color: #808000; font-weight: bold\">Best loss: </span><span style=\"color: #808000; text-decoration-color: #808000; font-weight: bold\">2.397</span><span style=\"color: #808000; text-decoration-color: #808000; font-weight: bold\">, with ids: tensor([  </span><span style=\"color: #808000; text-decoration-color: #808000; font-weight: bold\">4761</span><span style=\"color: #808000; text-decoration-color: #808000; font-weight: bold\">, </span><span style=\"color: #808000; text-decoration-color: #808000; font-weight: bold\">106473</span><span style=\"color: #808000; text-decoration-color: #808000; font-weight: bold\">,  </span><span style=\"color: #808000; text-decoration-color: #808000; font-weight: bold\">10373</span><span style=\"color: #808000; text-decoration-color: #808000; font-weight: bold\">,   </span><span style=\"color: #808000; text-decoration-color: #808000; font-weight: bold\">6834</span><span style=\"color: #808000; text-decoration-color: #808000; font-weight: bold\">,  </span><span style=\"color: #808000; text-decoration-color: #808000; font-weight: bold\">39123</span><span style=\"color: #808000; text-decoration-color: #808000; font-weight: bold\">], </span><span style=\"color: #808000; text-decoration-color: #808000; font-weight: bold\">device</span><span style=\"color: #808000; text-decoration-color: #808000; font-weight: bold\">=</span><span style=\"color: #808000; text-decoration-color: #808000; font-weight: bold\">'cuda:0'</span><span style=\"color: #808000; text-decoration-color: #808000; font-weight: bold\">)</span>\n",
       "<span style=\"color: #808000; text-decoration-color: #808000; font-weight: bold\">            </span>\n",
       "</pre>\n"
      ],
      "text/plain": [
       " \n",
       "                \u001b[1;33mBest loss: \u001b[0m\u001b[1;33m2.397\u001b[0m\u001b[1;33m, with ids: \u001b[0m\u001b[1;33mtensor\u001b[0m\u001b[1;33m(\u001b[0m\u001b[1;33m[\u001b[0m\u001b[1;33m  \u001b[0m\u001b[1;33m4761\u001b[0m\u001b[1;33m, \u001b[0m\u001b[1;33m106473\u001b[0m\u001b[1;33m,  \u001b[0m\u001b[1;33m10373\u001b[0m\u001b[1;33m,   \u001b[0m\u001b[1;33m6834\u001b[0m\u001b[1;33m,  \u001b[0m\u001b[1;33m39123\u001b[0m\u001b[1;33m]\u001b[0m\u001b[1;33m, \u001b[0m\u001b[1;33mdevice\u001b[0m\u001b[1;33m=\u001b[0m\u001b[1;33m'cuda:0'\u001b[0m\u001b[1;33m)\u001b[0m\n",
       "\u001b[1;33m            \u001b[0m\n"
      ]
     },
     "metadata": {},
     "output_type": "display_data"
    },
    {
     "name": "stderr",
     "output_type": "stream",
     "text": [
      "100%|██████████| 10/10 [00:13<00:00,  1.34s/it]\n"
     ]
    }
   ],
   "source": [
    "ssr.init_prompt(vanilla_instruction_with_chat_template)\n",
    "ssr.set_initial_values()\n",
    "ssr.buffer_init_random()\n",
    "ssr.generate()"
   ]
  },
  {
   "cell_type": "code",
   "execution_count": 7,
   "metadata": {},
   "outputs": [
    {
     "name": "stdout",
     "output_type": "stream",
     "text": [
      "This is  Obانات orders Sex cocaine - 2.3974609375\n",
      "This is  Mess características orders Sex cocaine - 2.399139404296875\n",
      "This is  obانات orders Sex cocaine - 2.4027748107910156\n",
      "This is  Messانات orders Sex cocaine - 2.43896484375\n",
      "This is obانات orders Sex cocaine - 2.454345703125\n",
      "This is  Messانات orders Deal cocaine - 2.47216796875\n",
      "This is -obانات orders Sex cocaine - 2.4886474609375\n",
      "This is  Obانات orders CN cocaine - 2.494873046875\n",
      "This is  Obانات orders籍 cocaine - 2.51171875\n",
      "This is koانات orders Sex cocaine - 2.5194091796875\n"
     ]
    }
   ],
   "source": [
    "import torch as t\n",
    "\n",
    "chat_template_before, chat_template_after = lens.apply_chat_template(\"[CROISSANT]\").split(\"[CROISSANT]\")\n",
    "\n",
    "def extract_instruction(instruction_with_chat_template: str) -> str:\n",
    "    return instruction_with_chat_template.split(chat_template_before)[\n",
    "        1\n",
    "    ].split(chat_template_after)[0]\n",
    "\n",
    "extracted_candidates = []\n",
    "extracted_losses = []\n",
    "\n",
    "for ids, loss in zip(\n",
    "    t.cat([ssr.candidate_ids.cpu(), ssr.archive_ids], dim=0),\n",
    "    ssr.candidate_losses.tolist() + ssr.archive_losses.tolist(),\n",
    "):\n",
    "    extracted_candidates.append(\n",
    "        extract_instruction(\n",
    "            lens.model.to_string(ssr.get_tokens(ids.unsqueeze(0)))[0]\n",
    "        )\n",
    "    )\n",
    "    extracted_losses.append(loss)\n",
    "\n",
    "topk = t.Tensor(extracted_losses).topk(k=len(extracted_candidates), largest=False)\n",
    "for k in topk.indices: \n",
    "    print(extracted_candidates[k], \"-\", extracted_losses[k])"
   ]
  },
  {
   "cell_type": "code",
   "execution_count": null,
   "metadata": {},
   "outputs": [],
   "source": []
  }
 ],
 "metadata": {
  "kernelspec": {
   "display_name": "ssr",
   "language": "python",
   "name": "python3"
  },
  "language_info": {
   "codemirror_mode": {
    "name": "ipython",
    "version": 3
   },
   "file_extension": ".py",
   "mimetype": "text/x-python",
   "name": "python",
   "nbconvert_exporter": "python",
   "pygments_lexer": "ipython3",
   "version": "3.12.9"
  }
 },
 "nbformat": 4,
 "nbformat_minor": 2
}
