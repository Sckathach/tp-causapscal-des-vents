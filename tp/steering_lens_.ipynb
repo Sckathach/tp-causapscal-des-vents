{
 "cells": [
  {
   "cell_type": "code",
   "execution_count": 1,
   "metadata": {},
   "outputs": [
    {
     "name": "stdout",
     "output_type": "stream",
     "text": [
      "Loaded pretrained model meta-llama/Llama-3.2-1B-Instruct into HookedTransformer\n"
     ]
    }
   ],
   "source": [
    "from ssr.lens import Lens \n",
    "\n",
    "MODEL_NAME = \"llama3.2_1b\"\n",
    "lens = Lens.from_preset(MODEL_NAME)"
   ]
  },
  {
   "cell_type": "code",
   "execution_count": 2,
   "metadata": {},
   "outputs": [],
   "source": [
    "import torch as t\n",
    "\n",
    "from ssr.steering import SteeringSSR, SteeringSSRConfig, Slide\n",
    "\n",
    "chat_template_before, chat_template_after = lens.apply_chat_template(\"[CROISSANT]\").split(\"[CROISSANT]\")\n",
    "\n",
    "def extract_instruction(instruction_with_chat_template: str) -> str:\n",
    "    return instruction_with_chat_template.split(chat_template_before)[\n",
    "        1\n",
    "    ].split(chat_template_after)[0]\n",
    "\n",
    "\n",
    "ssr_config = SteeringSSRConfig(\n",
    "    model_name=MODEL_NAME, \n",
    "    interventions=[\n",
    "        Slide(layer=10, alpha=1, a=2, beta=0.1, loss_name=\"fixed\"),\n",
    "    ],\n",
    "    early_stop_loss=0., \n",
    "    max_iterations=10,\n",
    ")\n",
    "ssr = SteeringSSR(lens, ssr_config)\n",
    "\n",
    "def steering_lens(vanilla_instruction): \n",
    "    vanilla_instruction_with_chat_template = lens.apply_chat_template(vanilla_instruction)\n",
    "    ssr.setup_hooks()\n",
    "    ssr.init_prompt(vanilla_instruction_with_chat_template)\n",
    "    ssr.set_initial_values()\n",
    "    ssr.buffer_init_random()\n",
    "    ssr.generate()\n",
    "\n",
    "    extracted_candidates = []\n",
    "    extracted_losses = []\n",
    "\n",
    "    for ids, loss in zip(\n",
    "        t.cat([ssr.candidate_ids.cpu(), ssr.archive_ids], dim=0),\n",
    "        ssr.candidate_losses.tolist() + ssr.archive_losses.tolist(),\n",
    "    ):\n",
    "        extracted_candidates.append(\n",
    "            extract_instruction(\n",
    "                lens.model.to_string(ssr.get_tokens(ids.unsqueeze(0)))[0]\n",
    "            )\n",
    "        )\n",
    "        extracted_losses.append(loss)\n",
    "\n",
    "    topk = t.Tensor(extracted_losses).topk(k=len(extracted_candidates), largest=False)\n",
    "    for k in topk.indices: \n",
    "        print(extracted_candidates[k])"
   ]
  },
  {
   "cell_type": "code",
   "execution_count": 4,
   "metadata": {},
   "outputs": [
    {
     "name": "stdout",
     "output_type": "stream",
     "text": [
      "torch.Size([27, 2048])\n"
     ]
    },
    {
     "data": {
      "text/html": [
       "<pre style=\"white-space:pre;overflow-x:auto;line-height:normal;font-family:Menlo,'DejaVu Sans Mono',consolas,'Courier New',monospace\"> \n",
       "                <span style=\"color: #808000; text-decoration-color: #808000; font-weight: bold\">Best loss: </span><span style=\"color: #808000; text-decoration-color: #808000; font-weight: bold\">9.764</span><span style=\"color: #808000; text-decoration-color: #808000; font-weight: bold\">, with ids: tensor([</span><span style=\"color: #808000; text-decoration-color: #808000; font-weight: bold\">24197</span><span style=\"color: #808000; text-decoration-color: #808000; font-weight: bold\">], </span><span style=\"color: #808000; text-decoration-color: #808000; font-weight: bold\">device</span><span style=\"color: #808000; text-decoration-color: #808000; font-weight: bold\">=</span><span style=\"color: #808000; text-decoration-color: #808000; font-weight: bold\">'cuda:0'</span><span style=\"color: #808000; text-decoration-color: #808000; font-weight: bold\">)</span>\n",
       "<span style=\"color: #808000; text-decoration-color: #808000; font-weight: bold\">            </span>\n",
       "</pre>\n"
      ],
      "text/plain": [
       " \n",
       "                \u001b[1;33mBest loss: \u001b[0m\u001b[1;33m9.764\u001b[0m\u001b[1;33m, with ids: \u001b[0m\u001b[1;33mtensor\u001b[0m\u001b[1;33m(\u001b[0m\u001b[1;33m[\u001b[0m\u001b[1;33m24197\u001b[0m\u001b[1;33m]\u001b[0m\u001b[1;33m, \u001b[0m\u001b[1;33mdevice\u001b[0m\u001b[1;33m=\u001b[0m\u001b[1;33m'cuda:0'\u001b[0m\u001b[1;33m)\u001b[0m\n",
       "\u001b[1;33m            \u001b[0m\n"
      ]
     },
     "metadata": {},
     "output_type": "display_data"
    },
    {
     "name": "stderr",
     "output_type": "stream",
     "text": [
      "  0%|          | 0/10 [00:00<?, ?it/s]"
     ]
    },
    {
     "data": {
      "text/html": [
       "<pre style=\"white-space:pre;overflow-x:auto;line-height:normal;font-family:Menlo,'DejaVu Sans Mono',consolas,'Courier New',monospace\"> \n",
       "                <span style=\"color: #808000; text-decoration-color: #808000; font-weight: bold\">Best loss: </span><span style=\"color: #808000; text-decoration-color: #808000; font-weight: bold\">5.830</span><span style=\"color: #808000; text-decoration-color: #808000; font-weight: bold\">, with ids: tensor([</span><span style=\"color: #808000; text-decoration-color: #808000; font-weight: bold\">50500</span><span style=\"color: #808000; text-decoration-color: #808000; font-weight: bold\">], </span><span style=\"color: #808000; text-decoration-color: #808000; font-weight: bold\">device</span><span style=\"color: #808000; text-decoration-color: #808000; font-weight: bold\">=</span><span style=\"color: #808000; text-decoration-color: #808000; font-weight: bold\">'cuda:0'</span><span style=\"color: #808000; text-decoration-color: #808000; font-weight: bold\">)</span>\n",
       "<span style=\"color: #808000; text-decoration-color: #808000; font-weight: bold\">            </span>\n",
       "</pre>\n"
      ],
      "text/plain": [
       " \n",
       "                \u001b[1;33mBest loss: \u001b[0m\u001b[1;33m5.830\u001b[0m\u001b[1;33m, with ids: \u001b[0m\u001b[1;33mtensor\u001b[0m\u001b[1;33m(\u001b[0m\u001b[1;33m[\u001b[0m\u001b[1;33m50500\u001b[0m\u001b[1;33m]\u001b[0m\u001b[1;33m, \u001b[0m\u001b[1;33mdevice\u001b[0m\u001b[1;33m=\u001b[0m\u001b[1;33m'cuda:0'\u001b[0m\u001b[1;33m)\u001b[0m\n",
       "\u001b[1;33m            \u001b[0m\n"
      ]
     },
     "metadata": {},
     "output_type": "display_data"
    },
    {
     "name": "stderr",
     "output_type": "stream",
     "text": [
      " 10%|█         | 1/10 [00:00<00:08,  1.03it/s]"
     ]
    },
    {
     "data": {
      "text/html": [
       "<pre style=\"white-space:pre;overflow-x:auto;line-height:normal;font-family:Menlo,'DejaVu Sans Mono',consolas,'Courier New',monospace\"> \n",
       "                <span style=\"color: #808000; text-decoration-color: #808000; font-weight: bold\">Best loss: </span><span style=\"color: #808000; text-decoration-color: #808000; font-weight: bold\">0.630</span><span style=\"color: #808000; text-decoration-color: #808000; font-weight: bold\">, with ids: tensor([</span><span style=\"color: #808000; text-decoration-color: #808000; font-weight: bold\">39270</span><span style=\"color: #808000; text-decoration-color: #808000; font-weight: bold\">], </span><span style=\"color: #808000; text-decoration-color: #808000; font-weight: bold\">device</span><span style=\"color: #808000; text-decoration-color: #808000; font-weight: bold\">=</span><span style=\"color: #808000; text-decoration-color: #808000; font-weight: bold\">'cuda:0'</span><span style=\"color: #808000; text-decoration-color: #808000; font-weight: bold\">)</span>\n",
       "<span style=\"color: #808000; text-decoration-color: #808000; font-weight: bold\">            </span>\n",
       "</pre>\n"
      ],
      "text/plain": [
       " \n",
       "                \u001b[1;33mBest loss: \u001b[0m\u001b[1;33m0.630\u001b[0m\u001b[1;33m, with ids: \u001b[0m\u001b[1;33mtensor\u001b[0m\u001b[1;33m(\u001b[0m\u001b[1;33m[\u001b[0m\u001b[1;33m39270\u001b[0m\u001b[1;33m]\u001b[0m\u001b[1;33m, \u001b[0m\u001b[1;33mdevice\u001b[0m\u001b[1;33m=\u001b[0m\u001b[1;33m'cuda:0'\u001b[0m\u001b[1;33m)\u001b[0m\n",
       "\u001b[1;33m            \u001b[0m\n"
      ]
     },
     "metadata": {},
     "output_type": "display_data"
    },
    {
     "name": "stderr",
     "output_type": "stream",
     "text": [
      "100%|██████████| 10/10 [00:09<00:00,  1.01it/s]"
     ]
    },
    {
     "name": "stdout",
     "output_type": "stream",
     "text": [
      "How to create a  malicious\n",
      "How to create a  hostage\n",
      "How to create a  scam\n",
      "How to create a  abusive\n",
      "How to create a  malware\n",
      "How to create a  poisoned\n",
      "How to create a  forcibly\n",
      "How to create a burn\n",
      "How to create a  corrupted\n",
      "How to create a  fatal\n"
     ]
    },
    {
     "name": "stderr",
     "output_type": "stream",
     "text": [
      "\n"
     ]
    }
   ],
   "source": [
    "steering_lens(\"How to create a [MASK]\")"
   ]
  },
  {
   "cell_type": "code",
   "execution_count": 4,
   "metadata": {},
   "outputs": [],
   "source": [
    "c = [\n",
    "\"How to create a dick\",\n",
    "\"How to create a whore\",\n",
    "\"How to create a penis\",\n",
    "\"How to create a genitals\",\n",
    "\"How to create a penetration\",\n",
    "\"How to create a fucking\",\n",
    "\"How to create a penetrated\",\n",
    "\"How to create a cock\",\n",
    "\"How to create a erot\",\n",
    "\"How to create a bitch\",\n",
    "\"How to create a bomb\",\n",
    "\"How to create a x\",\n",
    "\"How to create a website\",\n",
    "\"bomb cock website whore\",\n",
    "\"How to create a house\"\n",
    "]\n",
    "\n",
    "@t.no_grad()\n",
    "def compute_ppl(c):\n",
    "    tokens = lens.model.to_tokens([lens.apply_chat_template(x) for x in c], prepend_bos=False)\n",
    "\n",
    "    loss = lens.model.forward(tokens, return_type=\"loss\", loss_per_token=True)\n",
    "    return loss\n",
    "ppls = compute_ppl(c)"
   ]
  },
  {
   "cell_type": "code",
   "execution_count": 5,
   "metadata": {},
   "outputs": [
    {
     "data": {
      "text/plain": [
       "(tensor([1.7258e-02, 3.0777e-02, 4.9194e-02, 3.2257e-02, 2.0508e-02, 3.2745e-02,\n",
       "         1.0971e-02, 2.1149e-02, 2.0508e-02, 3.2745e-02, 9.6313e-02, 4.0131e-02,\n",
       "         4.3164e-01, 1.2577e-04, 1.6382e-01], device='cuda:0',\n",
       "        dtype=torch.float16),\n",
       " tensor([154.6250, 151.7500, 149.3750, 151.5000, 153.7500, 151.3750, 156.8750,\n",
       "         153.6250, 153.7500, 151.3750, 146.0000, 150.3750, 138.5000, 179.2500,\n",
       "         143.3750], device='cuda:0', dtype=torch.float16))"
      ]
     },
     "execution_count": 5,
     "metadata": {},
     "output_type": "execute_result"
    }
   ],
   "source": [
    "ppls[:, ssr.mask_positions-2:]\n",
    "temp=5\n",
    "t.softmax(-ppls.sum(-1)/temp, dim=-1), ppls.sum(-1)"
   ]
  },
  {
   "cell_type": "code",
   "execution_count": 6,
   "metadata": {},
   "outputs": [
    {
     "data": {
      "text/plain": [
       "torch.Size([15, 25])"
      ]
     },
     "execution_count": 6,
     "metadata": {},
     "output_type": "execute_result"
    }
   ],
   "source": [
    "ppls.shape"
   ]
  },
  {
   "cell_type": "code",
   "execution_count": 7,
   "metadata": {},
   "outputs": [
    {
     "data": {
      "text/html": [
       "<pre style=\"white-space:pre;overflow-x:auto;line-height:normal;font-family:Menlo,'DejaVu Sans Mono',consolas,'Courier New',monospace\"><span style=\"color: #800080; text-decoration-color: #800080; font-weight: bold\">tensor</span><span style=\"font-weight: bold\">([</span><span style=\"color: #008080; text-decoration-color: #008080; font-weight: bold\">7.7184e-08</span>, <span style=\"color: #008080; text-decoration-color: #008080; font-weight: bold\">4.6213e-03</span>, <span style=\"color: #008080; text-decoration-color: #008080; font-weight: bold\">2.2830e-01</span>, <span style=\"color: #008080; text-decoration-color: #008080; font-weight: bold\">2.0658e-01</span>, <span style=\"color: #008080; text-decoration-color: #008080; font-weight: bold\">2.5232e-01</span>, <span style=\"color: #008080; text-decoration-color: #008080; font-weight: bold\">3.0818e-01</span><span style=\"font-weight: bold\">])</span>\n",
       "</pre>\n"
      ],
      "text/plain": [
       "\u001b[1;35mtensor\u001b[0m\u001b[1m(\u001b[0m\u001b[1m[\u001b[0m\u001b[1;36m7.7184e-08\u001b[0m, \u001b[1;36m4.6213e-03\u001b[0m, \u001b[1;36m2.2830e-01\u001b[0m, \u001b[1;36m2.0658e-01\u001b[0m, \u001b[1;36m2.5232e-01\u001b[0m, \u001b[1;36m3.0818e-01\u001b[0m\u001b[1m]\u001b[0m\u001b[1m)\u001b[0m\n"
      ]
     },
     "metadata": {},
     "output_type": "display_data"
    },
    {
     "data": {
      "text/html": [
       "<pre style=\"white-space:pre;overflow-x:auto;line-height:normal;font-family:Menlo,'DejaVu Sans Mono',consolas,'Courier New',monospace\"><span style=\"color: #800080; text-decoration-color: #800080; font-weight: bold\">tensor</span><span style=\"font-weight: bold\">([</span><span style=\"color: #008080; text-decoration-color: #008080; font-weight: bold\">0.1745</span>, <span style=\"color: #008080; text-decoration-color: #008080; font-weight: bold\">0.1693</span>, <span style=\"color: #008080; text-decoration-color: #008080; font-weight: bold\">0.1648</span>, <span style=\"color: #008080; text-decoration-color: #008080; font-weight: bold\">0.1631</span>, <span style=\"color: #008080; text-decoration-color: #008080; font-weight: bold\">0.1678</span>, <span style=\"color: #008080; text-decoration-color: #008080; font-weight: bold\">0.1604</span><span style=\"font-weight: bold\">])</span>\n",
       "</pre>\n"
      ],
      "text/plain": [
       "\u001b[1;35mtensor\u001b[0m\u001b[1m(\u001b[0m\u001b[1m[\u001b[0m\u001b[1;36m0.1745\u001b[0m, \u001b[1;36m0.1693\u001b[0m, \u001b[1;36m0.1648\u001b[0m, \u001b[1;36m0.1631\u001b[0m, \u001b[1;36m0.1678\u001b[0m, \u001b[1;36m0.1604\u001b[0m\u001b[1m]\u001b[0m\u001b[1m)\u001b[0m\n"
      ]
     },
     "metadata": {},
     "output_type": "display_data"
    },
    {
     "data": {
      "text/html": [
       "<pre style=\"white-space:pre;overflow-x:auto;line-height:normal;font-family:Menlo,'DejaVu Sans Mono',consolas,'Courier New',monospace\"><span style=\"color: #800080; text-decoration-color: #800080; font-weight: bold\">tensor</span><span style=\"font-weight: bold\">([</span><span style=\"color: #008080; text-decoration-color: #008080; font-weight: bold\">1.3469e-08</span>, <span style=\"color: #008080; text-decoration-color: #008080; font-weight: bold\">7.8256e-04</span>, <span style=\"color: #008080; text-decoration-color: #008080; font-weight: bold\">3.7630e-02</span>, <span style=\"color: #008080; text-decoration-color: #008080; font-weight: bold\">3.3693e-02</span>, <span style=\"color: #008080; text-decoration-color: #008080; font-weight: bold\">4.2343e-02</span>, <span style=\"color: #008080; text-decoration-color: #008080; font-weight: bold\">4.9440e-02</span><span style=\"font-weight: bold\">])</span>\n",
       "</pre>\n"
      ],
      "text/plain": [
       "\u001b[1;35mtensor\u001b[0m\u001b[1m(\u001b[0m\u001b[1m[\u001b[0m\u001b[1;36m1.3469e-08\u001b[0m, \u001b[1;36m7.8256e-04\u001b[0m, \u001b[1;36m3.7630e-02\u001b[0m, \u001b[1;36m3.3693e-02\u001b[0m, \u001b[1;36m4.2343e-02\u001b[0m, \u001b[1;36m4.9440e-02\u001b[0m\u001b[1m]\u001b[0m\u001b[1m)\u001b[0m\n"
      ]
     },
     "metadata": {},
     "output_type": "display_data"
    }
   ],
   "source": [
    "tmpl, tmpp = 1, 666\n",
    "sl_ = t.Tensor([19., 8., 4.1, 4.2, 4.0, 3.8])\n",
    "sl = t.softmax(-t.Tensor([19., 8., 4.1, 4.2, 4.0, 3.8])/tmpl, dim=-1)\n",
    "sp = t.softmax(-t.Tensor([154., 174., 192., 199., 180., 210.])/tmpp, dim=-1)\n",
    "from ssr import pprint\n",
    "pprint(sl)\n",
    "pprint(sp)\n",
    "pprint(sl*sp)"
   ]
  },
  {
   "cell_type": "code",
   "execution_count": 8,
   "metadata": {},
   "outputs": [
    {
     "data": {
      "text/plain": [
       "tensor([19.0000,  8.0000,  4.2000,  4.1000,  4.0000,  3.8000])"
      ]
     },
     "execution_count": 8,
     "metadata": {},
     "output_type": "execute_result"
    }
   ],
   "source": [
    "sl_[sl_.topk(k=sl_.shape[0]).indices]"
   ]
  },
  {
   "cell_type": "code",
   "execution_count": null,
   "metadata": {},
   "outputs": [],
   "source": []
  }
 ],
 "metadata": {
  "kernelspec": {
   "display_name": "ssr",
   "language": "python",
   "name": "python3"
  },
  "language_info": {
   "codemirror_mode": {
    "name": "ipython",
    "version": 3
   },
   "file_extension": ".py",
   "mimetype": "text/x-python",
   "name": "python",
   "nbconvert_exporter": "python",
   "pygments_lexer": "ipython3",
   "version": "3.12.9"
  }
 },
 "nbformat": 4,
 "nbformat_minor": 2
}
