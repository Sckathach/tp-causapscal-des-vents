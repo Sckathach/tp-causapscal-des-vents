{
 "cells": [
  {
   "cell_type": "code",
   "execution_count": 1,
   "metadata": {},
   "outputs": [
    {
     "name": "stdout",
     "output_type": "stream",
     "text": [
      "Loaded pretrained model Qwen/Qwen2.5-1.5B-Instruct into HookedTransformer\n"
     ]
    }
   ],
   "source": [
    "from causapscal.lens import Lens \n",
    "\n",
    "lens = Lens.from_preset(\"qwen2.5_1.5b\")"
   ]
  },
  {
   "cell_type": "code",
   "execution_count": 6,
   "metadata": {},
   "outputs": [],
   "source": [
    "from causapscal.files import load_dataset\n",
    "import torch as t\n",
    "from torch import Tensor\n",
    "from rich import print\n",
    "from einops import einsum\n",
    "from causapscal.types import HookPoint\n",
    "from jaxtyping import Float"
   ]
  },
  {
   "cell_type": "code",
   "execution_count": null,
   "metadata": {},
   "outputs": [],
   "source": [
    "PATTERN = \"resid_post\"\n",
    "LAYER = 24"
   ]
  },
  {
   "cell_type": "code",
   "execution_count": 3,
   "metadata": {},
   "outputs": [
    {
     "name": "stderr",
     "output_type": "stream",
     "text": [
      "  0%|          | 0/1 [00:00<?, ?it/s]\n",
      "  0%|          | 0/2 [00:00<?, ?it/s]\n",
      "100%|██████████| 4/4 [00:03<00:00,  1.21it/s]\n",
      "100%|██████████| 4/4 [00:03<00:00,  1.07it/s]\n"
     ]
    }
   ],
   "source": [
    "hf_raw, hl_raw = load_dataset(\"mod\")\n",
    "hf, hl = lens.process_dataset(hf_raw, hl_raw)\n",
    "hf_act, hl_act = lens.scan_dataset(hf, hl)"
   ]
  },
  {
   "cell_type": "code",
   "execution_count": null,
   "metadata": {},
   "outputs": [
    {
     "data": {
      "text/html": [
       "<pre style=\"white-space:pre;overflow-x:auto;line-height:normal;font-family:Menlo,'DejaVu Sans Mono',consolas,'Courier New',monospace\"><span style=\"color: #800080; text-decoration-color: #800080; font-weight: bold\">torch.Size</span><span style=\"font-weight: bold\">([</span><span style=\"color: #008080; text-decoration-color: #008080; font-weight: bold\">28</span>, <span style=\"color: #008080; text-decoration-color: #008080; font-weight: bold\">1536</span><span style=\"font-weight: bold\">])</span>\n",
       "</pre>\n"
      ],
      "text/plain": [
       "\u001b[1;35mtorch.Size\u001b[0m\u001b[1m(\u001b[0m\u001b[1m[\u001b[0m\u001b[1;36m28\u001b[0m, \u001b[1;36m1536\u001b[0m\u001b[1m]\u001b[0m\u001b[1m)\u001b[0m\n"
      ]
     },
     "metadata": {},
     "output_type": "display_data"
    }
   ],
   "source": [
    "refusal_directions = hf_act.mean(dim=1) - hl_act.mean(dim=1)\n",
    "refusal_directions = (\n",
    "    refusal_directions\n",
    "    / t.linalg.norm(refusal_directions, dim=-1, keepdim=True).cpu()\n",
    ")\n",
    "refusal_directions_dict = {tl.utils.get_act_name(PATTERN, layer): refusal_directions[layer] for layer in range(lens.model.cfg.n_layers)}\n",
    "print(refusal_directions.shape)"
   ]
  },
  {
   "cell_type": "code",
   "execution_count": null,
   "metadata": {},
   "outputs": [],
   "source": [
    "def direction_ablation_hook(\n",
    "    activation: Float[Tensor, \"... d_act\"],\n",
    "    hook: HookPoint,\n",
    "):\n",
    "    proj = einops.einsum(activation, refusal_direction_dict[hook.name].view(-1, 1), '... d_act, d_act single -> ... single') * direction\n",
    "    return activation - proj\n",
    "    \n"
   ]
  }
 ],
 "metadata": {
  "kernelspec": {
   "display_name": "ssr",
   "language": "python",
   "name": "python3"
  },
  "language_info": {
   "codemirror_mode": {
    "name": "ipython",
    "version": 3
   },
   "file_extension": ".py",
   "mimetype": "text/x-python",
   "name": "python",
   "nbconvert_exporter": "python",
   "pygments_lexer": "ipython3",
   "version": "3.12.9"
  }
 },
 "nbformat": 4,
 "nbformat_minor": 2
}
