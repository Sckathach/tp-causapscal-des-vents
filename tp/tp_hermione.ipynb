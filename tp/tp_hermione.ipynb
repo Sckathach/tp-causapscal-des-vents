{
 "cells": [
  {
   "cell_type": "code",
   "execution_count": 3,
   "metadata": {},
   "outputs": [
    {
     "name": "stdout",
     "output_type": "stream",
     "text": [
      "Loaded pretrained model gpt2 into HookedTransformer\n"
     ]
    }
   ],
   "source": [
    "from causapscal.lens import Lens\n",
    "\n",
    "lens = Lens.from_preset(\"gpt\")"
   ]
  },
  {
   "cell_type": "code",
   "execution_count": 1,
   "metadata": {},
   "outputs": [],
   "source": [
    "from rich import print \n",
    "import torch as t"
   ]
  },
  {
   "cell_type": "code",
   "execution_count": 9,
   "metadata": {},
   "outputs": [
    {
     "data": {
      "text/html": [
       "<pre style=\"white-space:pre;overflow-x:auto;line-height:normal;font-family:Menlo,'DejaVu Sans Mono',consolas,'Courier New',monospace\"><span style=\"font-weight: bold\">[</span>\n",
       "    <span style=\"color: #008000; text-decoration-color: #008000\">'&lt;|endoftext|&gt;'</span>,\n",
       "    <span style=\"color: #008000; text-decoration-color: #008000\">'Q'</span>,\n",
       "    <span style=\"color: #008000; text-decoration-color: #008000\">'uel'</span>,\n",
       "    <span style=\"color: #008000; text-decoration-color: #008000\">'le'</span>,\n",
       "    <span style=\"color: #008000; text-decoration-color: #008000\">' est'</span>,\n",
       "    <span style=\"color: #008000; text-decoration-color: #008000\">' la'</span>,\n",
       "    <span style=\"color: #008000; text-decoration-color: #008000\">' cou'</span>,\n",
       "    <span style=\"color: #008000; text-decoration-color: #008000\">'le'</span>,\n",
       "    <span style=\"color: #008000; text-decoration-color: #008000\">'ur'</span>,\n",
       "    <span style=\"color: #008000; text-decoration-color: #008000\">' du'</span>,\n",
       "    <span style=\"color: #008000; text-decoration-color: #008000\">' chat'</span>,\n",
       "    <span style=\"color: #008000; text-decoration-color: #008000\">' de'</span>,\n",
       "    <span style=\"color: #008000; text-decoration-color: #008000\">' Hermione'</span>,\n",
       "    <span style=\"color: #008000; text-decoration-color: #008000\">' Granger'</span>,\n",
       "    <span style=\"color: #008000; text-decoration-color: #008000\">'?'</span>\n",
       "<span style=\"font-weight: bold\">]</span>\n",
       "</pre>\n"
      ],
      "text/plain": [
       "\u001b[1m[\u001b[0m\n",
       "    \u001b[32m'\u001b[0m\u001b[32m<\u001b[0m\u001b[32m|endoftext|\u001b[0m\u001b[32m>\u001b[0m\u001b[32m'\u001b[0m,\n",
       "    \u001b[32m'Q'\u001b[0m,\n",
       "    \u001b[32m'uel'\u001b[0m,\n",
       "    \u001b[32m'le'\u001b[0m,\n",
       "    \u001b[32m' est'\u001b[0m,\n",
       "    \u001b[32m' la'\u001b[0m,\n",
       "    \u001b[32m' cou'\u001b[0m,\n",
       "    \u001b[32m'le'\u001b[0m,\n",
       "    \u001b[32m'ur'\u001b[0m,\n",
       "    \u001b[32m' du'\u001b[0m,\n",
       "    \u001b[32m' chat'\u001b[0m,\n",
       "    \u001b[32m' de'\u001b[0m,\n",
       "    \u001b[32m' Hermione'\u001b[0m,\n",
       "    \u001b[32m' Granger'\u001b[0m,\n",
       "    \u001b[32m'?'\u001b[0m\n",
       "\u001b[1m]\u001b[0m\n"
      ]
     },
     "metadata": {},
     "output_type": "display_data"
    }
   ],
   "source": [
    "PHRASE = \"Quelle est la couleur du chat de Hermione Granger?\"\n",
    "print(lens.model.to_str_tokens(PHRASE))"
   ]
  },
  {
   "cell_type": "code",
   "execution_count": 8,
   "metadata": {},
   "outputs": [
    {
     "data": {
      "text/html": [
       "<pre style=\"white-space:pre;overflow-x:auto;line-height:normal;font-family:Menlo,'DejaVu Sans Mono',consolas,'Courier New',monospace\"><span style=\"font-weight: bold\">[</span><span style=\"color: #008000; text-decoration-color: #008000\">'!'</span>, <span style=\"color: #008000; text-decoration-color: #008000\">'\"'</span>, <span style=\"color: #008000; text-decoration-color: #008000\">'#'</span>, <span style=\"color: #008000; text-decoration-color: #008000\">'$'</span>, <span style=\"color: #008000; text-decoration-color: #008000\">'%'</span><span style=\"font-weight: bold\">]</span>\n",
       "</pre>\n"
      ],
      "text/plain": [
       "\u001b[1m[\u001b[0m\u001b[32m'!'\u001b[0m, \u001b[32m'\"'\u001b[0m, \u001b[32m'#'\u001b[0m, \u001b[32m'$'\u001b[0m, \u001b[32m'%'\u001b[0m\u001b[1m]\u001b[0m\n"
      ]
     },
     "metadata": {},
     "output_type": "display_data"
    },
    {
     "data": {
      "text/html": [
       "<pre style=\"white-space:pre;overflow-x:auto;line-height:normal;font-family:Menlo,'DejaVu Sans Mono',consolas,'Courier New',monospace\"><span style=\"color: #008080; text-decoration-color: #008080; font-weight: bold\">50257</span>\n",
       "</pre>\n"
      ],
      "text/plain": [
       "\u001b[1;36m50257\u001b[0m\n"
      ]
     },
     "metadata": {},
     "output_type": "display_data"
    }
   ],
   "source": [
    "vocab = lens.model.to_string(t.arange(lens.model.cfg.d_vocab).unsqueeze(-1))\n",
    "print(vocab[:5])\n",
    "print(len(vocab))"
   ]
  },
  {
   "cell_type": "code",
   "execution_count": 11,
   "metadata": {},
   "outputs": [
    {
     "data": {
      "text/html": [
       "<pre style=\"white-space:pre;overflow-x:auto;line-height:normal;font-family:Menlo,'DejaVu Sans Mono',consolas,'Courier New',monospace\"><span style=\"color: #800080; text-decoration-color: #800080; font-weight: bold\">tensor</span><span style=\"font-weight: bold\">([[</span><span style=\"color: #008080; text-decoration-color: #008080; font-weight: bold\">50256</span>,    <span style=\"color: #008080; text-decoration-color: #008080; font-weight: bold\">48</span>,  <span style=\"color: #008080; text-decoration-color: #008080; font-weight: bold\">2731</span>,   <span style=\"color: #008080; text-decoration-color: #008080; font-weight: bold\">293</span>,  <span style=\"color: #008080; text-decoration-color: #008080; font-weight: bold\">1556</span>,  <span style=\"color: #008080; text-decoration-color: #008080; font-weight: bold\">8591</span>,  <span style=\"color: #008080; text-decoration-color: #008080; font-weight: bold\">2284</span>,   <span style=\"color: #008080; text-decoration-color: #008080; font-weight: bold\">293</span>,   <span style=\"color: #008080; text-decoration-color: #008080; font-weight: bold\">333</span>,  <span style=\"color: #008080; text-decoration-color: #008080; font-weight: bold\">7043</span>,\n",
       "          <span style=\"color: #008080; text-decoration-color: #008080; font-weight: bold\">8537</span>,   <span style=\"color: #008080; text-decoration-color: #008080; font-weight: bold\">390</span>, <span style=\"color: #008080; text-decoration-color: #008080; font-weight: bold\">19959</span>, <span style=\"color: #008080; text-decoration-color: #008080; font-weight: bold\">46236</span>,    <span style=\"color: #008080; text-decoration-color: #008080; font-weight: bold\">30</span><span style=\"font-weight: bold\">]]</span>, <span style=\"color: #808000; text-decoration-color: #808000\">device</span>=<span style=\"color: #008000; text-decoration-color: #008000\">'cuda:0'</span><span style=\"font-weight: bold\">)</span>\n",
       "</pre>\n"
      ],
      "text/plain": [
       "\u001b[1;35mtensor\u001b[0m\u001b[1m(\u001b[0m\u001b[1m[\u001b[0m\u001b[1m[\u001b[0m\u001b[1;36m50256\u001b[0m,    \u001b[1;36m48\u001b[0m,  \u001b[1;36m2731\u001b[0m,   \u001b[1;36m293\u001b[0m,  \u001b[1;36m1556\u001b[0m,  \u001b[1;36m8591\u001b[0m,  \u001b[1;36m2284\u001b[0m,   \u001b[1;36m293\u001b[0m,   \u001b[1;36m333\u001b[0m,  \u001b[1;36m7043\u001b[0m,\n",
       "          \u001b[1;36m8537\u001b[0m,   \u001b[1;36m390\u001b[0m, \u001b[1;36m19959\u001b[0m, \u001b[1;36m46236\u001b[0m,    \u001b[1;36m30\u001b[0m\u001b[1m]\u001b[0m\u001b[1m]\u001b[0m, \u001b[33mdevice\u001b[0m=\u001b[32m'cuda:0'\u001b[0m\u001b[1m)\u001b[0m\n"
      ]
     },
     "metadata": {},
     "output_type": "display_data"
    }
   ],
   "source": [
    "tokens = lens.model.to_tokens(PHRASE)\n",
    "print(tokens)"
   ]
  },
  {
   "cell_type": "code",
   "execution_count": null,
   "metadata": {},
   "outputs": [
    {
     "data": {
      "text/html": [
       "<pre style=\"white-space:pre;overflow-x:auto;line-height:normal;font-family:Menlo,'DejaVu Sans Mono',consolas,'Courier New',monospace\"><span style=\"color: #800080; text-decoration-color: #800080; font-weight: bold\">torch.Size</span><span style=\"font-weight: bold\">([</span><span style=\"color: #008080; text-decoration-color: #008080; font-weight: bold\">1</span>, <span style=\"color: #008080; text-decoration-color: #008080; font-weight: bold\">15</span>, <span style=\"color: #008080; text-decoration-color: #008080; font-weight: bold\">50257</span><span style=\"font-weight: bold\">])</span>\n",
       "</pre>\n"
      ],
      "text/plain": [
       "\u001b[1;35mtorch.Size\u001b[0m\u001b[1m(\u001b[0m\u001b[1m[\u001b[0m\u001b[1;36m1\u001b[0m, \u001b[1;36m15\u001b[0m, \u001b[1;36m50257\u001b[0m\u001b[1m]\u001b[0m\u001b[1m)\u001b[0m\n"
      ]
     },
     "metadata": {},
     "output_type": "display_data"
    }
   ],
   "source": [
    "logits, cache = lens.model.run_with_cache(tokens)\n",
    "print(logits.shape)"
   ]
  },
  {
   "cell_type": "code",
   "execution_count": 14,
   "metadata": {},
   "outputs": [
    {
     "data": {
      "text/html": [
       "<pre style=\"white-space:pre;overflow-x:auto;line-height:normal;font-family:Menlo,'DejaVu Sans Mono',consolas,'Courier New',monospace\"><span style=\"font-weight: bold\">[</span><span style=\"color: #008000; text-decoration-color: #008000\">'\\n'</span>, <span style=\"color: #008000; text-decoration-color: #008000\">' ('</span>, <span style=\"color: #008000; text-decoration-color: #008000\">'\\n\\n'</span>, <span style=\"color: #008000; text-decoration-color: #008000\">' I'</span>, <span style=\"color: #008000; text-decoration-color: #008000\">' A'</span><span style=\"font-weight: bold\">]</span>\n",
       "</pre>\n"
      ],
      "text/plain": [
       "\u001b[1m[\u001b[0m\u001b[32m'\\n'\u001b[0m, \u001b[32m' \u001b[0m\u001b[32m(\u001b[0m\u001b[32m'\u001b[0m, \u001b[32m'\\n\\n'\u001b[0m, \u001b[32m' I'\u001b[0m, \u001b[32m' A'\u001b[0m\u001b[1m]\u001b[0m\n"
      ]
     },
     "metadata": {},
     "output_type": "display_data"
    }
   ],
   "source": [
    "predictions = logits[0, -1, :].topk(k=5)\n",
    "print(lens.model.to_string(predictions.indices.unsqueeze(-1)))"
   ]
  },
  {
   "cell_type": "code",
   "execution_count": null,
   "metadata": {},
   "outputs": [],
   "source": []
  }
 ],
 "metadata": {
  "kernelspec": {
   "display_name": "ssr",
   "language": "python",
   "name": "python3"
  },
  "language_info": {
   "codemirror_mode": {
    "name": "ipython",
    "version": 3
   },
   "file_extension": ".py",
   "mimetype": "text/x-python",
   "name": "python",
   "nbconvert_exporter": "python",
   "pygments_lexer": "ipython3",
   "version": "3.12.9"
  }
 },
 "nbformat": 4,
 "nbformat_minor": 2
}
